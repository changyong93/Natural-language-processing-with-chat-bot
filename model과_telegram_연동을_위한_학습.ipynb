{
  "nbformat": 4,
  "nbformat_minor": 0,
  "metadata": {
    "colab": {
      "name": "model과 telegram 연동을 위한 학습",
      "provenance": [],
      "collapsed_sections": [],
      "toc_visible": true,
      "include_colab_link": true
    },
    "kernelspec": {
      "display_name": "Python 3",
      "name": "python3"
    }
  },
  "cells": [
    {
      "cell_type": "markdown",
      "metadata": {
        "id": "view-in-github",
        "colab_type": "text"
      },
      "source": [
        "<a href=\"https://colab.research.google.com/github/changyong93/Natural-language-processing-with-chat-bot/blob/main/model%EA%B3%BC_telegram_%EC%97%B0%EB%8F%99%EC%9D%84_%EC%9C%84%ED%95%9C_%ED%95%99%EC%8A%B5.ipynb\" target=\"_parent\"><img src=\"https://colab.research.google.com/assets/colab-badge.svg\" alt=\"Open In Colab\"/></a>"
      ]
    },
    {
      "cell_type": "code",
      "metadata": {
        "id": "00mMfJGQfjlB",
        "colab": {
          "base_uri": "https://localhost:8080/"
        },
        "outputId": "0f484559-0c34-4d3f-f5a7-caf43eee2976"
      },
      "source": [
        "# 텔레그램에 입력한 정보 가져오기\n",
        "import requests\n",
        "import os\n",
        "import json\n",
        "# token = os.getenv('TELEGRAM_TOKEN') #환경 변수 PATH에 등록된 TELEGRAM_TOKEN을 가져온다 / 환경변수에 입력할 경우 해당 코드로 진행\n",
        "token = \"1825154869:AAGNSgMk7Sottj4qfY9uLFP_phkS8kKI55c\"\n",
        "# 업데이트 내용 받아오기\n",
        "# 아래의 주소를 호출하면, 업데이트 된 봇의 내용을 가져올 수 있다.\n",
        "url = 'https://api.telegram.org/bot{}/getUpdates'.format(token)\n",
        "response = json.loads(requests.get(url).text) # 마지막에 입력된 내용을 json으로 받기\n",
        "response['result'][-1]['message']"
      ],
      "execution_count": 3,
      "outputs": [
        {
          "output_type": "execute_result",
          "data": {
            "text/plain": [
              "{'chat': {'first_name': '창용',\n",
              "  'id': 1685300237,\n",
              "  'last_name': '고',\n",
              "  'type': 'private'},\n",
              " 'date': 1620910891,\n",
              " 'from': {'first_name': '창용',\n",
              "  'id': 1685300237,\n",
              "  'is_bot': False,\n",
              "  'language_code': 'ko',\n",
              "  'last_name': '고'},\n",
              " 'message_id': 7,\n",
              " 'text': '테스트'}"
            ]
          },
          "metadata": {
            "tags": []
          },
          "execution_count": 3
        }
      ]
    },
    {
      "cell_type": "code",
      "metadata": {
        "id": "r5m-mDHtH7m_",
        "colab": {
          "base_uri": "https://localhost:8080/"
        },
        "outputId": "a5b97dd7-f860-411d-b1eb-e26a856f0b83"
      },
      "source": [
        "#fast api 생성을 위한 모듈 설치\n",
        "!pip install fastapi\n",
        "\n",
        "#비동기 프로그램밍을 위한 모듈 설치\n",
        "# 동기(synchronous) 처리 : 특정 작업이 끝나면 다음 작업이 처리하는 순차적인 방식\n",
        "# 비동기(asynchronous) : 여러 작업을 처리하도록 예약한 뒤 작업이 끝나면 결과를 받는 방식\n",
        "# https://dojang.io/mod/page/view.php?id=2469\n",
        "!pip install nest-asyncio\n",
        "\n",
        "#ngrok : NAT과 방화벽 뒤에 있는 로컬 서버를 안전한 터널을 통해 공개 인터넷에 노출시켜 주는 도구\n",
        "# 포트 포워딩과 같은 네트워크 환경 설정 변경없이 실행중인 서버를 안전하게 외부로 접근 가능하도록 해주는 도구\n",
        "!pip install pyngrok\n",
        "\n",
        "# uvicorn : uvloop 및 httptools를 사용하는 ASGI web server\n",
        "# uvloop : asyncio의 이벤트 루프 대체재로, asyncio를 더 빠르게 만듦\n",
        "# ASGI(Asynchronous Server Gateway Interface) : 비동기 서버 게이트웨이 인터페이스로, 웹 서버와 프레임 워크(Django 등) 어플리케이션을 비동기로 연결해주는 파이선의 표준 인터페이스\n",
        "!pip install uvicorn"
      ],
      "execution_count": 4,
      "outputs": [
        {
          "output_type": "stream",
          "text": [
            "Collecting fastapi\n",
            "\u001b[?25l  Downloading https://files.pythonhosted.org/packages/4e/b9/a91a699f5c201413b3f61405dbccc29ebe5ad25945230e9cec98fdb2434c/fastapi-0.65.1-py3-none-any.whl (50kB)\n",
            "\u001b[K     |████████████████████████████████| 51kB 2.4MB/s \n",
            "\u001b[?25hCollecting pydantic!=1.7,!=1.7.1,!=1.7.2,!=1.7.3,!=1.8,!=1.8.1,<2.0.0,>=1.6.2\n",
            "\u001b[?25l  Downloading https://files.pythonhosted.org/packages/9f/f2/2d5425efe57f6c4e06cbe5e587c1fd16929dcf0eb90bd4d3d1e1c97d1151/pydantic-1.8.2-cp37-cp37m-manylinux2014_x86_64.whl (10.1MB)\n",
            "\u001b[K     |████████████████████████████████| 10.1MB 6.4MB/s \n",
            "\u001b[?25hCollecting starlette==0.14.2\n",
            "\u001b[?25l  Downloading https://files.pythonhosted.org/packages/15/34/db1890f442a1cd3a2c761f4109a0eb4e63503218d70a8c8e97faa09a5500/starlette-0.14.2-py3-none-any.whl (60kB)\n",
            "\u001b[K     |████████████████████████████████| 61kB 6.3MB/s \n",
            "\u001b[?25hRequirement already satisfied: typing-extensions>=3.7.4.3 in /usr/local/lib/python3.7/dist-packages (from pydantic!=1.7,!=1.7.1,!=1.7.2,!=1.7.3,!=1.8,!=1.8.1,<2.0.0,>=1.6.2->fastapi) (3.7.4.3)\n",
            "Installing collected packages: pydantic, starlette, fastapi\n",
            "Successfully installed fastapi-0.65.1 pydantic-1.8.2 starlette-0.14.2\n",
            "Requirement already satisfied: nest-asyncio in /usr/local/lib/python3.7/dist-packages (1.5.1)\n",
            "Collecting pyngrok\n",
            "\u001b[?25l  Downloading https://files.pythonhosted.org/packages/6b/4e/a2fe095bbe17cf26424c4abcd22a0490e22d01cc628f25af5e220ddbf6f0/pyngrok-5.0.5.tar.gz (745kB)\n",
            "\u001b[K     |████████████████████████████████| 747kB 4.1MB/s \n",
            "\u001b[?25hRequirement already satisfied: PyYAML in /usr/local/lib/python3.7/dist-packages (from pyngrok) (3.13)\n",
            "Building wheels for collected packages: pyngrok\n",
            "  Building wheel for pyngrok (setup.py) ... \u001b[?25l\u001b[?25hdone\n",
            "  Created wheel for pyngrok: filename=pyngrok-5.0.5-cp37-none-any.whl size=19246 sha256=21083f927e559543607be69ce69118b9dfc10475b422f5cbe48d637eb14728fd\n",
            "  Stored in directory: /root/.cache/pip/wheels/0c/13/64/5ebbcc22eaf53fdf5766b397c1fb17c83f5775fdccf0ea1b88\n",
            "Successfully built pyngrok\n",
            "Installing collected packages: pyngrok\n",
            "Successfully installed pyngrok-5.0.5\n",
            "Collecting uvicorn\n",
            "\u001b[?25l  Downloading https://files.pythonhosted.org/packages/c8/de/953f0289508b1b92debdf0a6822d9b88ffb0c6ad471d709cf639a2c8a176/uvicorn-0.13.4-py3-none-any.whl (46kB)\n",
            "\u001b[K     |████████████████████████████████| 51kB 2.5MB/s \n",
            "\u001b[?25hRequirement already satisfied: click==7.* in /usr/local/lib/python3.7/dist-packages (from uvicorn) (7.1.2)\n",
            "Requirement already satisfied: typing-extensions; python_version < \"3.8\" in /usr/local/lib/python3.7/dist-packages (from uvicorn) (3.7.4.3)\n",
            "Collecting h11>=0.8\n",
            "\u001b[?25l  Downloading https://files.pythonhosted.org/packages/60/0f/7a0eeea938eaf61074f29fed9717f2010e8d0e0905d36b38d3275a1e4622/h11-0.12.0-py3-none-any.whl (54kB)\n",
            "\u001b[K     |████████████████████████████████| 61kB 6.3MB/s \n",
            "\u001b[?25hInstalling collected packages: h11, uvicorn\n",
            "Successfully installed h11-0.12.0 uvicorn-0.13.4\n"
          ],
          "name": "stdout"
        }
      ]
    },
    {
      "cell_type": "code",
      "metadata": {
        "id": "hEmouIppXyer"
      },
      "source": [
        "from typing import Optional # 함수 생성 시 데이터 타입을 생성하기 위한 모듈 및 메서드\n",
        "\n",
        "from fastapi import FastAPI # API서버를 구축하기 위한 모던하고, 빠른 웹 프레임 워크 # https://velog.io/@wmc1415/FastAPI-%ED%8C%8C%EC%9D%B4%EC%8D%AC-%EC%9B%B9-%ED%94%84%EB%A0%88%EC%9E%84-%EC%9B%8C%ED%81%AC1\n",
        "\n",
        "app = FastAPI()\n",
        "\n",
        "\n",
        "@app.get(\"/\")\n",
        "def read_root():\n",
        "    return {\"Hello\": \"World\"}\n",
        "\n",
        "@app.get(\"/items/{item_id}\")\n",
        "def read_item(item_id: int, q: Optional[str] = None): # \n",
        "    return {\"item_id\": item_id, \"q\": q}"
      ],
      "execution_count": 7,
      "outputs": []
    },
    {
      "cell_type": "code",
      "metadata": {
        "colab": {
          "base_uri": "https://localhost:8080/"
        },
        "id": "N0iMrBNg2qop",
        "outputId": "a894980f-8a8e-4584-cbcf-050bd9679da4"
      },
      "source": [
        ""
      ],
      "execution_count": 6,
      "outputs": [
        {
          "output_type": "execute_result",
          "data": {
            "text/plain": [
              "{'item_id': 5, 'q': None}"
            ]
          },
          "metadata": {
            "tags": []
          },
          "execution_count": 6
        }
      ]
    },
    {
      "cell_type": "code",
      "metadata": {
        "id": "Vh64POXXH88l"
      },
      "source": [
        "from fastapi import FastAPI\n",
        "from fastapi.middleware.cors import CORSMiddleware\n",
        "\n",
        "app = FastAPI()\n",
        "\n",
        "# https://fastapi.tiangolo.com/tutorial/middleware/\n",
        "app.add_middleware(\n",
        "    CORSMiddleware,\n",
        "    allow_origins=['*'],\n",
        "    allow_credentials=True,\n",
        "    allow_methods=['*'],\n",
        "    allow_headers=['*'],\n",
        ")\n",
        "\n",
        "@app.get('/')\n",
        "async def root():\n",
        "    return {'hello': 'world'}"
      ],
      "execution_count": null,
      "outputs": []
    },
    {
      "cell_type": "code",
      "metadata": {
        "id": "93abyl1-H-et",
        "colab": {
          "base_uri": "https://localhost:8080/"
        },
        "outputId": "e6e5944a-1d80-4f57-9ea5-d39b4201658b"
      },
      "source": [
        "import nest_asyncio\n",
        "from pyngrok import ngrok\n",
        "import uvicorn\n",
        "\n",
        "ngrok_tunnel = ngrok.connect(8000)\n",
        "print('Public URL:', ngrok_tunnel.public_url)\n",
        "nest_asyncio.apply()\n",
        "uvicorn.run(app, port=8000)\n",
        "\n",
        "# ngrok http 127.0.0.1:5000"
      ],
      "execution_count": 9,
      "outputs": [
        {
          "output_type": "stream",
          "text": [
            "Public URL: http://9603eaea011b.ngrok.io\n"
          ],
          "name": "stdout"
        },
        {
          "output_type": "stream",
          "text": [
            "INFO:     Started server process [59]\n",
            "INFO:     Waiting for application startup.\n",
            "INFO:     Application startup complete.\n",
            "INFO:     Uvicorn running on http://127.0.0.1:8000 (Press CTRL+C to quit)\n"
          ],
          "name": "stderr"
        },
        {
          "output_type": "stream",
          "text": [
            "INFO:     211.244.71.145:0 - \"GET / HTTP/1.1\" 200 OK\n",
            "INFO:     211.244.71.145:0 - \"GET /favicon.ico HTTP/1.1\" 404 Not Found\n",
            "INFO:     1.254.179.100:0 - \"GET / HTTP/1.1\" 200 OK\n"
          ],
          "name": "stdout"
        },
        {
          "output_type": "stream",
          "text": [
            "INFO:     Shutting down\n",
            "INFO:     Waiting for application shutdown.\n",
            "INFO:     Application shutdown complete.\n",
            "INFO:     Finished server process [59]\n"
          ],
          "name": "stderr"
        }
      ]
    },
    {
      "cell_type": "code",
      "metadata": {
        "id": "Qqc_Kyz0IAH-"
      },
      "source": [
        "exit()"
      ],
      "execution_count": 10,
      "outputs": []
    }
  ]
}