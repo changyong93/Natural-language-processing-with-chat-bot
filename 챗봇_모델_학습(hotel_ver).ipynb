{
  "nbformat": 4,
  "nbformat_minor": 0,
  "metadata": {
    "colab": {
      "name": "챗봇 모델 학습(hotel ver)",
      "private_outputs": true,
      "provenance": [],
      "collapsed_sections": [],
      "authorship_tag": "ABX9TyMQInAAbXcGBMzLbiWSfQGU",
      "include_colab_link": true
    },
    "kernelspec": {
      "name": "python3",
      "display_name": "Python 3"
    },
    "language_info": {
      "name": "python"
    }
  },
  "cells": [
    {
      "cell_type": "markdown",
      "metadata": {
        "id": "view-in-github",
        "colab_type": "text"
      },
      "source": [
        "<a href=\"https://colab.research.google.com/github/changyong93/Natural-language-processing-with-chat-bot/blob/main/%EC%B1%97%EB%B4%87_%EB%AA%A8%EB%8D%B8_%ED%95%99%EC%8A%B5(hotel_ver).ipynb\" target=\"_parent\"><img src=\"https://colab.research.google.com/assets/colab-badge.svg\" alt=\"Open In Colab\"/></a>"
      ]
    },
    {
      "cell_type": "markdown",
      "metadata": {
        "id": "dHS-No9U8nql"
      },
      "source": [
        "# CRF 사용을 위한 텐서플로우 버전 조정"
      ]
    },
    {
      "cell_type": "code",
      "metadata": {
        "id": "-RuuLNDG8yJn"
      },
      "source": [
        "#==과 버전 사이에 띄어쓰기 없이 그대로 사용\n",
        "!pip install tensorflow==1.14.0\n",
        "!pip intsall keras==2.2.4\n",
        "!pip install tensorflow-gpu==1.14.0\n",
        "!pip install git+https://www.github.com/keras-team/keras-contrib.git"
      ],
      "execution_count": null,
      "outputs": []
    },
    {
      "cell_type": "markdown",
      "metadata": {
        "id": "Emlo5M1oBJrT"
      },
      "source": [
        "# 사전 추가를 위한 형태소 분석기 Mecab-ko 설치"
      ]
    },
    {
      "cell_type": "code",
      "metadata": {
        "id": "PZzlgZx79PO_"
      },
      "source": [
        "!git clone https://github.com/SOMJANG/Mecab-ko-for-Google-Colab.git"
      ],
      "execution_count": null,
      "outputs": []
    },
    {
      "cell_type": "code",
      "metadata": {
        "id": "5RoprgbIB1t-"
      },
      "source": [
        "cd Mecab-ko-for-Google-Colab/"
      ],
      "execution_count": null,
      "outputs": []
    },
    {
      "cell_type": "code",
      "metadata": {
        "id": "PQimt5oUB3CL"
      },
      "source": [
        "!bash install_mecab-ko_on_colab190912.sh"
      ],
      "execution_count": null,
      "outputs": []
    },
    {
      "cell_type": "markdown",
      "metadata": {
        "id": "_mUCIO7HCAO8"
      },
      "source": [
        "# 규칙정의"
      ]
    },
    {
      "cell_type": "markdown",
      "metadata": {
        "id": "xsdf_TplEIL_"
      },
      "source": [
        "의도는 총 5가지"
      ]
    },
    {
      "cell_type": "code",
      "metadata": {
        "id": "eC14hRlyD-94"
      },
      "source": [
        "#예약(예약, 평점기준 추천 등) / 변경 / 취소 / 확인 / 정보(체크인, 체크아웃, 시설 등) \n",
        "\n",
        "# 예약 => 호텔스 컴바인 체크인 및 아웃 날짜 기준으로 가능한 방 및 추천방 전달\n",
        "# xx 지역 이용 가능한 방 있어 / xx호텔 xx지역 빙 방 있어? / 내일 xx지역 이용 가능한 방 있어?? / xx지역 평점 기준으로 방 추천해줘\n",
        "\n",
        "# 변경 => 호텔스컴바인은 가격비교 사이트로 처리 불가. 고객이 실제 이용한 결제 페이지나 해당 호텔 연락처 전달\n",
        "# xxxx 번호 방 변경해줘 / xxxx호텔에 예약한 거 방 변경해줘 / xxxx호텔 예약한 거 이용 날짜 변경해줘 / xxxx번호 방 날짜 변경할래\n",
        "\n",
        "# 취소 => 호텔스컴바인은 가격비교 사이트로 처리 불가. 고객이 실제 이용한 결제 페이지나 해당 호텔 연락처 전달\n",
        "# xxxx 번호 취소해줘 / xxxx호텔 예약 취소해줘 / xxxx 번호 취소할게요 / xxxx번호 취소\n",
        "\n",
        "# 확인 => 호텔스컴바인은 가격비교 사이트로 처리 불가. 고객이 실제 이용한 결제 페이지나 해당 호텔 연락처 전달\n",
        "# xxxx 번호 예약 확인해줘 / xxxx 번호 예약 확인\n",
        "\n",
        "# 정보\n",
        "# xxxx 호텔 체크인 or 체크아웃 시간 언제야 / xxxx호텔 입실 or 퇴실 시간 언제야 / xxxx호텔 입퇴실 시간 언제야 / xxxx호텔 체크인 및 체크아웃 시간 언제야\n",
        "# xxxx 호텔 이용가능한 시설 뭐 있어 / xxxx호텔 반려견 동반 가능해? / xxxx호텔 서비스 뭐 있어?"
      ],
      "execution_count": null,
      "outputs": []
    },
    {
      "cell_type": "markdown",
      "metadata": {
        "id": "hP83mgGEHZtV"
      },
      "source": [
        "개체명은 아래와 같이 규칙을 정한다"
      ]
    },
    {
      "cell_type": "code",
      "metadata": {
        "id": "yzxYLaXXHc03"
      },
      "source": [
        "#규칙\n",
        "\"\"\"\n",
        "총 8개의 태그\n",
        "SEA : 검색\n",
        "SUR : 서비스(체크인,체크아웃,서비스,시설 등 다 포함)\n",
        "GRA : 평점\n",
        "PRI : 가격\n",
        "CHA : 변경\n",
        "CAN : 취소\n",
        "CHE : 확인, 체크\n",
        "RES : 예약\n",
        "DAT : 날짜(내일, 모레, 일주일 뒤, 한달 뒤)\n",
        "\"\"\""
      ],
      "execution_count": null,
      "outputs": []
    },
    {
      "cell_type": "markdown",
      "metadata": {
        "id": "8QAtB95dJjpi"
      },
      "source": [
        "## 호텔명 및 지역명 불러오기\n",
        "- hotelscombind에서 지역별로 호텔명을 가져옴\n",
        "- 호텔스컴바인은 전체 리스트가 아닌, 지정한 조건(체크인, 체크아웃, 객실수, 이용객 수)에 따라 조건이 달라짐\n",
        "- 해당 데이터는 4.17~4.18 객실 1개, 이용객 2명 기준으로 각 지역별로 호텔명을 크롤링\n",
        "- colab에서 selenium을 이용한 크롤링에 제한사항(사용법을 잘 모름)으로 우선 local의 jupyter notebook에서 크롤링 진행  \n",
        "---\n",
        "- 지역명은 각 지역(서울,서귀포 등)에서 호텔스컴바인 기준으로 가져옴\n",
        "  https://www.hotelscombined.co.kr/Place/Seoul.htm"
      ]
    },
    {
      "cell_type": "code",
      "metadata": {
        "id": "dhI2c_4QKGQU"
      },
      "source": [
        "from google.colab import files\n",
        "myfile1 = files.upload()\n",
        "myfile2 = files.upload()"
      ],
      "execution_count": null,
      "outputs": []
    },
    {
      "cell_type": "code",
      "metadata": {
        "id": "uJ2HBpV9KcFs"
      },
      "source": [
        "import io\n",
        "import pandas as pd \n",
        "\n",
        "data = pd.read_csv(io.BytesIO(myfile1['hotel_list.csv'])) #io 없이 pandas 모듈만 사용하면 에러 발생\n",
        "data.head()"
      ],
      "execution_count": null,
      "outputs": []
    },
    {
      "cell_type": "code",
      "metadata": {
        "id": "wWpFC0CqKzd6"
      },
      "source": [
        "data = data[[\"호텔\",\"지역\"]].copy()\n",
        "data.shape"
      ],
      "execution_count": null,
      "outputs": []
    },
    {
      "cell_type": "code",
      "metadata": {
        "id": "MHR6q69iK8fi"
      },
      "source": [
        "data[\"호텔\"].nunique(),data['지역'].nunique()"
      ],
      "execution_count": null,
      "outputs": []
    },
    {
      "cell_type": "code",
      "metadata": {
        "id": "NXLM497FLGvE"
      },
      "source": [
        "#중복값 제거\n",
        "data = data.drop_duplicates(subset = [\"호텔\"])\n",
        "data.shape"
      ],
      "execution_count": null,
      "outputs": []
    },
    {
      "cell_type": "code",
      "metadata": {
        "id": "HYa8nsabLLVR"
      },
      "source": [
        "hotel_list = data[\"호텔\"].to_list()\n",
        "print(hotel_list)"
      ],
      "execution_count": null,
      "outputs": []
    },
    {
      "cell_type": "code",
      "metadata": {
        "id": "eKubt3EbyA7S"
      },
      "source": [
        "data_loc = pd.read_csv(io.BytesIO(myfile2['location_list.csv'])) #io 없이 pandas 모듈만 사용하면 에러 발생\n",
        "print(data_loc.shape)\n",
        "print(\"*\"*30)\n",
        "print(data_loc.nunique())"
      ],
      "execution_count": null,
      "outputs": []
    },
    {
      "cell_type": "code",
      "metadata": {
        "id": "P1wZdhyMyHbu"
      },
      "source": [
        "data_loc = data_loc.drop_duplicates()\n",
        "data_loc[20:30]"
      ],
      "execution_count": null,
      "outputs": []
    },
    {
      "cell_type": "code",
      "metadata": {
        "id": "BRm0srJby4ZC"
      },
      "source": [
        "data_loc.loc[data_loc[\"지역\"]==\"Jamsil Sports Complex\",\"지역\"] = \"잠실종합운동장\"\n",
        "data_loc[20:30]"
      ],
      "execution_count": null,
      "outputs": []
    },
    {
      "cell_type": "code",
      "metadata": {
        "id": "w3RLnekEylkG"
      },
      "source": [
        "location_list = data_loc[\"지역\"].to_list()\n",
        "print(location_list)"
      ],
      "execution_count": null,
      "outputs": []
    },
    {
      "cell_type": "markdown",
      "metadata": {
        "id": "qzO8G13GLljN"
      },
      "source": [
        "## 학습 데이터 만들기"
      ]
    },
    {
      "cell_type": "markdown",
      "metadata": {
        "id": "nIvl9LaJcMT9"
      },
      "source": [
        "### 형태소 분석기 사전 추가할 데이터 정리(호텔)"
      ]
    },
    {
      "cell_type": "code",
      "metadata": {
        "id": "IrxdbFp_Lw-Z"
      },
      "source": [
        "from konlpy.tag import Mecab\n",
        "mecab = Mecab()"
      ],
      "execution_count": null,
      "outputs": []
    },
    {
      "cell_type": "code",
      "metadata": {
        "id": "z5G-gxV0MbaR"
      },
      "source": [
        "for i in range(30):\n",
        "  print(f\"[{i}번째] {hotel_list[i]} ===> {mecab.pos(hotel_list[i])}\")\n",
        "mecab.pos(hotel_list[0])"
      ],
      "execution_count": null,
      "outputs": []
    },
    {
      "cell_type": "markdown",
      "metadata": {
        "id": "CZ5of0O_NvUS"
      },
      "source": [
        "형태소가 부정확하게 인식하는 것에 대해서 우선 사전을 추가\n",
        "- 띄어쓰기 단위로 단어를 나누고, 2글자 이상만 선택 후 사전에 추가\n",
        "- 한글만 선택해서 받기"
      ]
    },
    {
      "cell_type": "code",
      "metadata": {
        "id": "I4lugvaHS9Hu"
      },
      "source": [
        "import re\n",
        "print(hotel_list[9])\n",
        "print(re.sub(pattern=\"[^ㄱ-ㅎㅏ-ㅣ가-힣 ]\",repl = \"\",string = hotel_list[9]))"
      ],
      "execution_count": null,
      "outputs": []
    },
    {
      "cell_type": "code",
      "metadata": {
        "id": "gbm_UclPN8-J"
      },
      "source": [
        "words_hotel = []\n",
        "for i in range(len(hotel_list)):\n",
        "  hotel_name = hotel_list[i]\n",
        "  hotel_name = re.sub(pattern = \"[^ㄱ-ㅎㅏ-ㅣ가-힣 ]\",repl = \"\",string = hotel_name)\n",
        "  for word in hotel_name.split():\n",
        "    if (len(word) >= 2) & (word not in words_hotel):\n",
        "      words_hotel.append(word)\n"
      ],
      "execution_count": null,
      "outputs": []
    },
    {
      "cell_type": "code",
      "metadata": {
        "id": "a-0dhQKnQwQL"
      },
      "source": [
        "print(\"2글자 이상의 단어 개수: \", len(words_hotel))\n",
        "print(\"-\"*30)\n",
        "print(words_hotel)"
      ],
      "execution_count": null,
      "outputs": []
    },
    {
      "cell_type": "markdown",
      "metadata": {
        "id": "bypcofbhz93t"
      },
      "source": [
        "### 형태소 분석기 사전 추가할 데이터 정리(지역명)"
      ]
    },
    {
      "cell_type": "code",
      "metadata": {
        "id": "ksZiOeYd0J4A"
      },
      "source": [
        "for i in range(len(location_list)):\n",
        "  print(f\"[{location_list[i]}]     \", mecab.pos(location_list[i]))"
      ],
      "execution_count": null,
      "outputs": []
    },
    {
      "cell_type": "markdown",
      "metadata": {
        "id": "_8bmDort1rhH"
      },
      "source": [
        "따로 추가할 필요 없어보임"
      ]
    },
    {
      "cell_type": "markdown",
      "metadata": {
        "id": "4g1n6jnK0FwA"
      },
      "source": [
        "### 형태소 분석기 사전 업데이트 후 재실행"
      ]
    },
    {
      "cell_type": "code",
      "metadata": {
        "id": "RFhxF5cCRTxD"
      },
      "source": [
        "# 사전 추가를 위한 경로 이동 => user-dic 의 nnp(일반명사)에 단어 단어 추가\n",
        "%cd /content/mecab-ko-dic-2.1.1-20180720\n",
        "%ls"
      ],
      "execution_count": null,
      "outputs": []
    },
    {
      "cell_type": "code",
      "metadata": {
        "id": "5yN0qJe7RZLJ"
      },
      "source": [
        "%ls user-dic/"
      ],
      "execution_count": null,
      "outputs": []
    },
    {
      "cell_type": "code",
      "metadata": {
        "id": "y1rzK5KZSC7W"
      },
      "source": [
        "with open(\"./user-dic/nnp.csv\",'r') as f:\n",
        "  file_data = f.readlines()"
      ],
      "execution_count": null,
      "outputs": []
    },
    {
      "cell_type": "code",
      "metadata": {
        "id": "f6D5ZnnlSNon"
      },
      "source": [
        "file_data #이미 추가했기에 늘어남"
      ],
      "execution_count": null,
      "outputs": []
    },
    {
      "cell_type": "code",
      "metadata": {
        "id": "6Q-_R6XzScy0"
      },
      "source": [
        "#단어 추가를 위해선 마지막 글자의 종성여부 판단이 필요\n",
        "#관련 패키지 설치\n",
        "!pip install jamo"
      ],
      "execution_count": null,
      "outputs": []
    },
    {
      "cell_type": "code",
      "metadata": {
        "id": "ahYPPeRjSjPi"
      },
      "source": [
        "from jamo import h2j, j2hcj #종성 여부를 판단해주는 \n",
        "#h2j => 조합형 한글로 바꾼 다음\n",
        "#j2hcj => 완성형 한글로 바꾸기\n",
        "j2hcj(h2j(words[0]))"
      ],
      "execution_count": null,
      "outputs": []
    },
    {
      "cell_type": "code",
      "metadata": {
        "id": "o1bfwVLSVQSS"
      },
      "source": [
        "T_jamo = []\n",
        "def get_jongsung_TF(sample_text):\n",
        "  sample_text_list = list(sample_text)\n",
        "  last_word = sample_text_list[-1]\n",
        "  last_word_jamo_list = list(j2hcj(h2j(last_word)))\n",
        "  last_jamo = last_word_jamo_list[-1]\n",
        "\n",
        "  #마지막 종성이 모음일 경우 T\n",
        "  jongsung_TF = \"T\"\n",
        "\n",
        "  #마지막 종성이 자음일 경우, 즉 입력한 단어에 받침이 있는 경우 F\n",
        "  if last_jamo in ['ㅏ', 'ㅑ', 'ㅓ', 'ㅕ', 'ㅗ', 'ㅛ', 'ㅜ', 'ㅠ', 'ㅡ', 'ㅣ', 'ㅘ', 'ㅚ', 'ㅙ', 'ㅝ', 'ㅞ', 'ㅢ', 'ㅐ,ㅔ', 'ㅟ', 'ㅖ', 'ㅒ']:\n",
        "    jongsung_TF = \"F\"\n",
        "  \n",
        "  return jongsung_TF"
      ],
      "execution_count": null,
      "outputs": []
    },
    {
      "cell_type": "code",
      "metadata": {
        "id": "poevKbv9X1qD"
      },
      "source": [
        "for i in range(10):\n",
        "  print(f\"글자: {words[i]:10} 받침 유무: {get_jongsung_TF(words[i])}\")"
      ],
      "execution_count": null,
      "outputs": []
    },
    {
      "cell_type": "code",
      "metadata": {
        "id": "MLYFIPrPYSAp"
      },
      "source": [
        "#사전 추가\n",
        "with open(\"./user-dic/nnp.csv\",\"r\") as f:\n",
        "  file_data = f.readlines()\n",
        "\n",
        "for word in words:\n",
        "  jongsung_TF = get_jongsung_TF(word)\n",
        "\n",
        "  line = f\"{word},,,,NNP,*,{jongsung_TF},{word},*,*,*,*,*\\n\"\n",
        "\n",
        "  file_data.append(line)"
      ],
      "execution_count": null,
      "outputs": []
    },
    {
      "cell_type": "code",
      "metadata": {
        "id": "WPbcUkBbZTtD"
      },
      "source": [
        "# 사전 작성\n",
        "with open(\"./user-dic/nnp.csv\",\"w\") as f:\n",
        "  for line in file_data:\n",
        "    f.write(line)"
      ],
      "execution_count": null,
      "outputs": []
    },
    {
      "cell_type": "code",
      "metadata": {
        "id": "W8oc6Y2WZ1lb"
      },
      "source": [
        "# 사전 작성 후 다시 읽기\n",
        "with open(\"./user-dic/nnp.csv\",\"r\") as f:\n",
        "  file_new = f.readlines()\n",
        "file_new"
      ],
      "execution_count": null,
      "outputs": []
    },
    {
      "cell_type": "code",
      "metadata": {
        "id": "dOoXhoPbaGd-"
      },
      "source": [
        "# 사전  추가 완료하기\n",
        "%ls"
      ],
      "execution_count": null,
      "outputs": []
    },
    {
      "cell_type": "code",
      "metadata": {
        "id": "dyM0dUuSac1I"
      },
      "source": [
        "%ls tools"
      ],
      "execution_count": null,
      "outputs": []
    },
    {
      "cell_type": "code",
      "metadata": {
        "id": "F3u3IkSLafh8"
      },
      "source": [
        "!bash ./tools/add-userdic.sh"
      ],
      "execution_count": null,
      "outputs": []
    },
    {
      "cell_type": "code",
      "metadata": {
        "id": "-fW0gHsCakU0"
      },
      "source": [
        "!make install"
      ],
      "execution_count": null,
      "outputs": []
    },
    {
      "cell_type": "code",
      "metadata": {
        "id": "6lXBqGClamQM"
      },
      "source": [
        "# 정상적으로 등록된 지 재확인\n",
        "from konlpy.tag import Mecab\n",
        "mecab = Mecab()\n",
        "\n",
        "for i in range(30):\n",
        "  print(f\"[{i}번째] {hotel_list[i]} ===> {mecab.pos(hotel_list[i])}\")\n",
        "mecab.pos(hotel_list[0])"
      ],
      "execution_count": null,
      "outputs": []
    },
    {
      "cell_type": "markdown",
      "metadata": {
        "id": "5gci3YUqci9b"
      },
      "source": [
        "### 예약 종목 학습 데이터 만들기"
      ]
    },
    {
      "cell_type": "code",
      "metadata": {
        "id": "EQS-hnM7BDhY"
      },
      "source": [
        "import numpy as np\n",
        "import random\n",
        "from sklearn.utils import shuffle"
      ],
      "execution_count": null,
      "outputs": []
    },
    {
      "cell_type": "code",
      "metadata": {
        "id": "im54ZlIQ4ojm"
      },
      "source": [
        "# price_list =[] #price가 없을 경우에 약 3만개의 질문이 생성되는데, price가 여러개일 경우  질문이 백만개 단위로 생성됨, 우선 하나의 값만 적용\n",
        "# for price in range(100000, 210000, 10000):\n",
        "#   price_won = f\"{price}원\"\n",
        "#   price_list.append(price)\n",
        "#   price_list.append(price_won)\n",
        "\n",
        "price_list = [100000, \"100000원\"]\n",
        "print(price_list)"
      ],
      "execution_count": null,
      "outputs": []
    },
    {
      "cell_type": "code",
      "metadata": {
        "id": "nZaF8GdDcrA-"
      },
      "source": [
        "def question_list(hotel_list, location_list = None, price_list = None):\n",
        "  \"\"\"\n",
        "  hotel_list : 호텔스컴바인의 호텔 리스트 기준으로 생성\n",
        "  location_list : 호텔스컴바인의 지역별 세부 지역 혹은 명소 등을 기준으로 생성\n",
        "  price_list : 100000~200000 사이를 기준으로 잡고 리스트 생성\n",
        "\n",
        "  location_list & price_list가 없을 경우 hotel_list 기준으로만 질문 생성\n",
        "  \"\"\"\n",
        "  question = []\n",
        "\n",
        "  #호텔 기준으로 질문 생성\n",
        "  for hotel in hotel_list:\n",
        "    s1 = hotel + \" 이용 가능한 방 있어?\"\n",
        "    s2 = hotel + \" 빈 방 있어?\"\n",
        "    s3 = hotel + \" 묵을 방 있어?\"\n",
        "    s4 = hotel + \" 방 있어?\"\n",
        "    s5 = hotel + \" 이용 가능한 방\"\n",
        "    s6 = hotel + \" 내일 이용 가능해?\"\n",
        "    s7 = hotel + \" 모레 방 있어?\"\n",
        "    s8 = \"이번 주 수요일 \" + hotel + \"에 방 있어?\" \n",
        "    s8 = \"다음 주 수요일 \" + hotel + \"에 방 있어?\" \n",
        "    s9 = hotel + \" 이용 가능한 방 있어?\"\n",
        "    s10 = hotel + \" 빈 방 있어?\"\n",
        "    s11 = hotel + \" 묵을 방 있어?\"\n",
        "    s12 = hotel + \" 방 있어?\"\n",
        "    question = question + [s1,s2,s3,s4,s5,s6,s7,s8,s9,s10,s11,s12]\n",
        "  \n",
        "  if location_list !=None:\n",
        "    for location in location_list:\n",
        "      s1 = location + \" 방 있어?\"\n",
        "      s2 = location + \" 이용 가능한 호텔 있어?\"\n",
        "      s3 = location + \" 빈 방 있어?\"\n",
        "      s4 = \"이번주 수요일 \" + location + \"에 방 있어?\"\n",
        "      s5 = \"다음주 수요일 \" + location + \"에 방 있어?\"\n",
        "      s6 = location + \" 빈 방 알려줘\"\n",
        "      s7 = location + \" 평점 기준으로 추천해 줘\"\n",
        "      s8 = location + \" 평점 높은 곳이 어디야\"\n",
        "      s9 = location + \" 추천해줘\"\n",
        "      question = question + [s1,s2,s3,s4,s5,s6,s7,s8,s9]\n",
        "  \n",
        "  if price_list != None:\n",
        "    list_add_prices = question.copy()\n",
        "    for price in price_list:\n",
        "      for add_price in list_add_prices:\n",
        "        s0 = f\"{price} 이하 \" + add_price\n",
        "        s1 = f\"{price} 밑으로 \" + add_price\n",
        "        question = question + [s0, s1]\n",
        "  \n",
        "  return question\n",
        "question = question_list(hotel_list, location_list, price_list)"
      ],
      "execution_count": null,
      "outputs": []
    },
    {
      "cell_type": "code",
      "metadata": {
        "id": "0K2q24FKh0vx"
      },
      "source": [
        "reservation = question\n",
        "len(reservation)"
      ],
      "execution_count": null,
      "outputs": []
    },
    {
      "cell_type": "code",
      "metadata": {
        "id": "CT4MlSTRA7VY"
      },
      "source": [
        "random.sample(reservation, 20)"
      ],
      "execution_count": null,
      "outputs": []
    },
    {
      "cell_type": "code",
      "metadata": {
        "id": "aJVJP8-1BRK1"
      },
      "source": [
        "reservation[-1]"
      ],
      "execution_count": null,
      "outputs": []
    },
    {
      "cell_type": "code",
      "metadata": {
        "id": "dtk_naAWDgSp"
      },
      "source": [
        "test_result = question_list([\"신라 호텔\"], [\"서울 지역\"], [\"100000원\"])\n",
        "test_result"
      ],
      "execution_count": null,
      "outputs": []
    },
    {
      "cell_type": "code",
      "metadata": {
        "id": "bODT6urJHgo9"
      },
      "source": [
        "tokenized_test_result = []\n",
        "for sample_keyword_question in test_result:\n",
        "  tokenized_test_result.append(mecab.morphs(sample_keyword_question))"
      ],
      "execution_count": null,
      "outputs": []
    },
    {
      "cell_type": "code",
      "metadata": {
        "id": "30J0NnYNHwAC"
      },
      "source": [
        "for sample in tokenized_test_result:\n",
        "  print(sample)"
      ],
      "execution_count": null,
      "outputs": []
    },
    {
      "cell_type": "markdown",
      "metadata": {
        "id": "YapEewCoHzK9"
      },
      "source": [
        "향후 필요한 키워드와 불필요한 키워드를 분류해야 하므로 현재 인텐트의 불필요한 단어를 정리"
      ]
    },
    {
      "cell_type": "code",
      "metadata": {
        "id": "6cehMPHEH9zq"
      },
      "source": [
        "reservation_stopwords_list = set([item for sample in tokenized_test_result for item in sample if item not in ['신라','호텔','내일','모레','주','수요일','서울','평점','추천','100000']])\n",
        "print(reservation_stopwords_list)"
      ],
      "execution_count": null,
      "outputs": []
    },
    {
      "cell_type": "code",
      "metadata": {
        "id": "Re3CJlzCJrBy"
      },
      "source": [
        "reservation_data = {'question' : reservation, 'intent' : \"예약\"}\n",
        "reservation_df = pd.DataFrame(reservation_data, columns = [\"question\",\"intent\"])"
      ],
      "execution_count": null,
      "outputs": []
    },
    {
      "cell_type": "code",
      "metadata": {
        "id": "7Bj9NvpNKJEp"
      },
      "source": [
        "reservation_df.sample(20)"
      ],
      "execution_count": null,
      "outputs": []
    },
    {
      "cell_type": "markdown",
      "metadata": {
        "id": "LvznJaVWLONH"
      },
      "source": [
        "### 변경 종목 학습 데이터 만들기"
      ]
    }
  ]
}