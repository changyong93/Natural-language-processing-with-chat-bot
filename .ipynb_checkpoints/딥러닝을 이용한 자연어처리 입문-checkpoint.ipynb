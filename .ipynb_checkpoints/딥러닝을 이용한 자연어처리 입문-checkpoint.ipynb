{
 "cells": [
  {
   "cell_type": "markdown",
   "id": "proper-jordan",
   "metadata": {},
   "source": [
    "# 토큰화\n",
    "  https://wikidocs.net/21698\n",
    "\n",
    "---\n",
    " - 주어진 코퍼스(corpus)에서 토큰(token)이라 불리는 단위로 나누는 작업을 토큰화"
   ]
  },
  {
   "cell_type": "markdown",
   "id": "imposed-killing",
   "metadata": {},
   "source": []
  }
 ],
 "metadata": {
  "kernelspec": {
   "display_name": "Python 3",
   "language": "python",
   "name": "python3"
  },
  "language_info": {
   "codemirror_mode": {
    "name": "ipython",
    "version": 3
   },
   "file_extension": ".py",
   "mimetype": "text/x-python",
   "name": "python",
   "nbconvert_exporter": "python",
   "pygments_lexer": "ipython3",
   "version": "3.8.3"
  },
  "toc": {
   "base_numbering": 1,
   "nav_menu": {},
   "number_sections": true,
   "sideBar": true,
   "skip_h1_title": false,
   "title_cell": "Table of Contents",
   "title_sidebar": "Contents",
   "toc_cell": false,
   "toc_position": {},
   "toc_section_display": true,
   "toc_window_display": false
  }
 },
 "nbformat": 4,
 "nbformat_minor": 5
}
