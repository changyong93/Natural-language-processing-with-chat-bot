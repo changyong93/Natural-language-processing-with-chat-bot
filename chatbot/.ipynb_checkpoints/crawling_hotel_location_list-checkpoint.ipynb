{
 "cells": [
  {
   "cell_type": "markdown",
   "id": "e4da6389",
   "metadata": {},
   "source": [
    "# 호텔 크롤링"
   ]
  },
  {
   "cell_type": "code",
   "execution_count": 2,
   "id": "f464b308",
   "metadata": {},
   "outputs": [],
   "source": [
    "from bs4 import BeautifulSoup\n",
    "from selenium import webdriver\n",
    "import time\n",
    "import pandas as pd"
   ]
  },
  {
   "cell_type": "code",
   "execution_count": 50,
   "id": "7dd3328a",
   "metadata": {},
   "outputs": [],
   "source": [
    "web = webdriver.Chrome(\"C:/r-selenium/chromedriver.exe\")"
   ]
  },
  {
   "cell_type": "code",
   "execution_count": 4,
   "id": "fbf0a520",
   "metadata": {},
   "outputs": [],
   "source": [
    "#호텔스컴바인 메인 페이지로 이동\n",
    "url = \"https://www.hotelscombined.co.kr/\"\n",
    "web.get(url)\n",
    "#이후 각 지역 페이지까지는 직접 손으로 이동\n",
    "#각 지역 버튼의 xpath값이 매번 변경됨"
   ]
  },
  {
   "cell_type": "code",
   "execution_count": 5,
   "id": "660f5437",
   "metadata": {},
   "outputs": [
    {
     "data": {
      "text/plain": [
       "'신라스테이 광화문'"
      ]
     },
     "execution_count": 5,
     "metadata": {},
     "output_type": "execute_result"
    }
   ],
   "source": [
    "html = web.page_source\n",
    "soup = BeautifulSoup(html, 'html.parser')\n",
    "\n",
    "i = 1\n",
    "hotel_list = f\"div #list-{i}\"\n",
    "hotel_list\n",
    "soup.select(hotel_list + \"> div > div > div > div > div > div > div > h3\")[0].text.replace(\"\\n\",\"\")"
   ]
  },
  {
   "cell_type": "code",
   "execution_count": 219,
   "id": "d0963d99",
   "metadata": {},
   "outputs": [
    {
     "data": {
      "text/plain": [
       "'롯데시티호텔 명동'"
      ]
     },
     "execution_count": 219,
     "metadata": {},
     "output_type": "execute_result"
    }
   ],
   "source": [
    "#페이지별로 14개의 호텔 리스트가 출력됨\n",
    "i = 1\n",
    "hotel_list = f\"div #list-{i}\"\n",
    "hotel_list\n",
    "soup.select(hotel_list + \"> div > div > div > div > div > div > div > h3\")[14].text.replace(\"\\n\",\"\")"
   ]
  },
  {
   "cell_type": "code",
   "execution_count": 31,
   "id": "9d631150",
   "metadata": {},
   "outputs": [
    {
     "data": {
      "text/plain": [
       "'신라스테이 역삼'"
      ]
     },
     "execution_count": 31,
     "metadata": {},
     "output_type": "execute_result"
    }
   ],
   "source": [
    "soup.select(page_list + \"> div > div > div > div > div > div > div > h3\")[1].text.replace(\"\\n\",\"\")"
   ]
  },
  {
   "cell_type": "code",
   "execution_count": 7,
   "id": "1716ed5d",
   "metadata": {},
   "outputs": [],
   "source": [
    "checkin =  \"2021-04-17\"\n",
    "checkout = \"2021-04-18\"\n",
    "loc_hotel = {\n",
    "    \"서울\" : f\"https://www.hotelscombined.co.kr/hotels/%EC%84%9C%EC%9A%B8,%EB%8C%80%ED%95%9C%EB%AF%BC%EA%B5%AD-c35982/{checkin}/{checkout}/2adults?placeId=P35982&placeName=place%3ASeoul&sort=rank_a\",\n",
    "    \"서귀포\" : f\"https://www.hotelscombined.co.kr/hotels/%EC%84%9C%EA%B7%80%ED%8F%AC%EC%8B%9C,%EB%8C%80%ED%95%9C%EB%AF%BC%EA%B5%AD-c48541/{checkin}/{checkout}/2adults?placeId=P48541&placeName=place%3ASeogwipo&sort=rank_a\",\n",
    "    \"여수\" : f\"https://www.hotelscombined.co.kr/hotels/%EC%97%AC%EC%88%98,%EB%8C%80%ED%95%9C%EB%AF%BC%EA%B5%AD-c55089/{checkin}/{checkout}/2adults?placeId=P55089&placeName=place%3AYeosu&sort=rank_a\",\n",
    "    \"양양\" : f\"https://www.hotelscombined.co.kr/hotels/%EC%96%91%EC%96%91,%EB%8C%80%ED%95%9C%EB%AF%BC%EA%B5%AD-c55073/{checkin}/{checkout}/2adults?placeId=P55073&placeName=place%3AYangyang&sort=rank_a\",\n",
    "    \"평창\" : f\"https://www.hotelscombined.co.kr/hotels/%ED%8F%89%EC%B0%BD,%EB%8C%80%ED%95%9C%EB%AF%BC%EA%B5%AD-c56197/{checkin}/{checkout}/2adults?placeId=P56197&placeName=place%3APyeongchang&sort=rank_a\",\n",
    "    \"제주\" : f\"https://www.hotelscombined.co.kr/hotels/%EC%A0%9C%EC%A3%BC%EC%8B%9C,%EB%8C%80%ED%95%9C%EB%AF%BC%EA%B5%AD-c32610/{checkin}/{checkout}/2adults?placeId=P32610&placeName=place%3AJeju&sort=rank_a\",\n",
    "    \"강릉\" : f\"https://www.hotelscombined.co.kr/hotels/%EA%B0%95%EB%A6%89,%EB%8C%80%ED%95%9C%EB%AF%BC%EA%B5%AD-c52588/{checkin}/{checkout}/2adults?placeId=P52588&placeName=place%3AGangneung&sort=rank_a\",\n",
    "    \"인천\" : f\"https://www.hotelscombined.co.kr/hotels/%EC%9D%B8%EC%B2%9C,%EB%8C%80%ED%95%9C%EB%AF%BC%EA%B5%AD-c44381/{checkin}/{checkout}/2adults?placeId=P44381&placeName=place%3AIncheon_Metropolitan_City&sort=rank_a\",\n",
    "    \"거제\" : f\"https://www.hotelscombined.co.kr/hotels/%EA%B1%B0%EC%A0%9C,%EB%8C%80%ED%95%9C%EB%AF%BC%EA%B5%AD-c68441/{checkin}/{checkout}/2adults?placeId=P68441&placeName=place%3AGeoje&sort=rank_a\",\n",
    "    \"통영\" : f\"https://www.hotelscombined.co.kr/hotels/%ED%86%B5%EC%98%81,%EB%8C%80%ED%95%9C%EB%AF%BC%EA%B5%AD-c80305/{checkin}/{checkout}/2adults?placeId=P80305&placeName=place%3ATongyeong&sort=rank_a\",\n",
    "    \"부산\" : f\"https://www.hotelscombined.co.kr/hotels/%EB%B6%80%EC%82%B0,%EB%8C%80%ED%95%9C%EB%AF%BC%EA%B5%AD-c41830/{checkin}/{checkout}/2adults?placeId=P41830&placeName=place%3ABusan_Province&sort=rank_a\",\n",
    "    \"속초\" : f\"https://www.hotelscombined.co.kr/hotels/%EC%86%8D%EC%B4%88,%EB%8C%80%ED%95%9C%EB%AF%BC%EA%B5%AD-c48734/{checkin}/{checkout}/2adults?placeId=P48734&placeName=place%3ASokcho&sort=rank_a\",\n",
    "    \"경주\" : f\"https://www.hotelscombined.co.kr/hotels/%EA%B2%BD%EC%A3%BC,%EB%8C%80%ED%95%9C%EB%AF%BC%EA%B5%AD-c43930/{checkin}/{checkout}/2adults?placeId=P43930&placeName=place%3AGyeongju&sort=rank_a\",\n",
    "    \"전주\" : f\"https://www.hotelscombined.co.kr/hotels/%EC%A0%84%EC%A3%BC,%EB%8C%80%ED%95%9C%EB%AF%BC%EA%B5%AD-c52889/{checkin}/{checkout}/2adults?placeId=P52889&placeName=place%3AJeonju&sort=rank_a\",\n",
    "    \"대구\" : f\"https://www.hotelscombined.co.kr/hotels/%EB%8C%80%EA%B5%AC,%EB%8C%80%ED%95%9C%EB%AF%BC%EA%B5%AD-c42701/{checkin}/{checkout}/2adults?placeId=P42701&placeName=place%3ADaegu_Metropolitan_City&sort=rank_a\"\n",
    "    }"
   ]
  },
  {
   "cell_type": "code",
   "execution_count": 8,
   "id": "bdb52742",
   "metadata": {},
   "outputs": [
    {
     "data": {
      "text/plain": [
       "{'서울': 'https://www.hotelscombined.co.kr/hotels/%EC%84%9C%EC%9A%B8,%EB%8C%80%ED%95%9C%EB%AF%BC%EA%B5%AD-c35982/2021-04-17/2021-04-18/2adults?placeId=P35982&placeName=place%3ASeoul&sort=rank_a',\n",
       " '서귀포': 'https://www.hotelscombined.co.kr/hotels/%EC%84%9C%EA%B7%80%ED%8F%AC%EC%8B%9C,%EB%8C%80%ED%95%9C%EB%AF%BC%EA%B5%AD-c48541/2021-04-17/2021-04-18/2adults?placeId=P48541&placeName=place%3ASeogwipo&sort=rank_a',\n",
       " '여수': 'https://www.hotelscombined.co.kr/hotels/%EC%97%AC%EC%88%98,%EB%8C%80%ED%95%9C%EB%AF%BC%EA%B5%AD-c55089/2021-04-17/2021-04-18/2adults?placeId=P55089&placeName=place%3AYeosu&sort=rank_a',\n",
       " '양양': 'https://www.hotelscombined.co.kr/hotels/%EC%96%91%EC%96%91,%EB%8C%80%ED%95%9C%EB%AF%BC%EA%B5%AD-c55073/2021-04-17/2021-04-18/2adults?placeId=P55073&placeName=place%3AYangyang&sort=rank_a',\n",
       " '평창': 'https://www.hotelscombined.co.kr/hotels/%ED%8F%89%EC%B0%BD,%EB%8C%80%ED%95%9C%EB%AF%BC%EA%B5%AD-c56197/2021-04-17/2021-04-18/2adults?placeId=P56197&placeName=place%3APyeongchang&sort=rank_a',\n",
       " '제주': 'https://www.hotelscombined.co.kr/hotels/%EC%A0%9C%EC%A3%BC%EC%8B%9C,%EB%8C%80%ED%95%9C%EB%AF%BC%EA%B5%AD-c32610/2021-04-17/2021-04-18/2adults?placeId=P32610&placeName=place%3AJeju&sort=rank_a',\n",
       " '강릉': 'https://www.hotelscombined.co.kr/hotels/%EA%B0%95%EB%A6%89,%EB%8C%80%ED%95%9C%EB%AF%BC%EA%B5%AD-c52588/2021-04-17/2021-04-18/2adults?placeId=P52588&placeName=place%3AGangneung&sort=rank_a',\n",
       " '인천': 'https://www.hotelscombined.co.kr/hotels/%EC%9D%B8%EC%B2%9C,%EB%8C%80%ED%95%9C%EB%AF%BC%EA%B5%AD-c44381/2021-04-17/2021-04-18/2adults?placeId=P44381&placeName=place%3AIncheon_Metropolitan_City&sort=rank_a',\n",
       " '거제': 'https://www.hotelscombined.co.kr/hotels/%EA%B1%B0%EC%A0%9C,%EB%8C%80%ED%95%9C%EB%AF%BC%EA%B5%AD-c68441/2021-04-17/2021-04-18/2adults?placeId=P68441&placeName=place%3AGeoje&sort=rank_a',\n",
       " '통영': 'https://www.hotelscombined.co.kr/hotels/%ED%86%B5%EC%98%81,%EB%8C%80%ED%95%9C%EB%AF%BC%EA%B5%AD-c80305/2021-04-17/2021-04-18/2adults?placeId=P80305&placeName=place%3ATongyeong&sort=rank_a',\n",
       " '부산': 'https://www.hotelscombined.co.kr/hotels/%EB%B6%80%EC%82%B0,%EB%8C%80%ED%95%9C%EB%AF%BC%EA%B5%AD-c41830/2021-04-17/2021-04-18/2adults?placeId=P41830&placeName=place%3ABusan_Province&sort=rank_a',\n",
       " '속초': 'https://www.hotelscombined.co.kr/hotels/%EC%86%8D%EC%B4%88,%EB%8C%80%ED%95%9C%EB%AF%BC%EA%B5%AD-c48734/2021-04-17/2021-04-18/2adults?placeId=P48734&placeName=place%3ASokcho&sort=rank_a',\n",
       " '경주': 'https://www.hotelscombined.co.kr/hotels/%EA%B2%BD%EC%A3%BC,%EB%8C%80%ED%95%9C%EB%AF%BC%EA%B5%AD-c43930/2021-04-17/2021-04-18/2adults?placeId=P43930&placeName=place%3AGyeongju&sort=rank_a',\n",
       " '전주': 'https://www.hotelscombined.co.kr/hotels/%EC%A0%84%EC%A3%BC,%EB%8C%80%ED%95%9C%EB%AF%BC%EA%B5%AD-c52889/2021-04-17/2021-04-18/2adults?placeId=P52889&placeName=place%3AJeonju&sort=rank_a',\n",
       " '대구': 'https://www.hotelscombined.co.kr/hotels/%EB%8C%80%EA%B5%AC,%EB%8C%80%ED%95%9C%EB%AF%BC%EA%B5%AD-c42701/2021-04-17/2021-04-18/2adults?placeId=P42701&placeName=place%3ADaegu_Metropolitan_City&sort=rank_a'}"
      ]
     },
     "execution_count": 8,
     "metadata": {},
     "output_type": "execute_result"
    }
   ],
   "source": [
    "loc_hotel"
   ]
  },
  {
   "cell_type": "code",
   "execution_count": 55,
   "id": "49aed675",
   "metadata": {},
   "outputs": [
    {
     "data": {
      "text/html": [
       "<div>\n",
       "<style scoped>\n",
       "    .dataframe tbody tr th:only-of-type {\n",
       "        vertical-align: middle;\n",
       "    }\n",
       "\n",
       "    .dataframe tbody tr th {\n",
       "        vertical-align: top;\n",
       "    }\n",
       "\n",
       "    .dataframe thead th {\n",
       "        text-align: right;\n",
       "    }\n",
       "</style>\n",
       "<table border=\"1\" class=\"dataframe\">\n",
       "  <thead>\n",
       "    <tr style=\"text-align: right;\">\n",
       "      <th></th>\n",
       "      <th>지역</th>\n",
       "      <th>호텔</th>\n",
       "    </tr>\n",
       "  </thead>\n",
       "  <tbody>\n",
       "  </tbody>\n",
       "</table>\n",
       "</div>"
      ],
      "text/plain": [
       "Empty DataFrame\n",
       "Columns: [지역, 호텔]\n",
       "Index: []"
      ]
     },
     "execution_count": 55,
     "metadata": {},
     "output_type": "execute_result"
    }
   ],
   "source": [
    "#데이터를 저장할 Dataframe 생성\n",
    "data = pd.DataFrame(columns = [\"지역\",\"호텔\"])\n",
    "data"
   ]
  },
  {
   "cell_type": "code",
   "execution_count": 71,
   "id": "fb59e67e",
   "metadata": {
    "scrolled": true
   },
   "outputs": [
    {
     "name": "stdout",
     "output_type": "stream",
     "text": [
      "[서울 || 1번째 페이지 완료] 누적 호텔 개수 : 15\n",
      "[서울 || 2번째 페이지 완료] 누적 호텔 개수 : 30\n",
      "[서울 || 3번째 페이지 완료] 누적 호텔 개수 : 45\n",
      "[서울 || 4번째 페이지 완료] 누적 호텔 개수 : 60\n",
      "[서울 || 5번째 페이지 완료] 누적 호텔 개수 : 75\n",
      "[서울 || 6번째 페이지 완료] 누적 호텔 개수 : 90\n",
      "[서울 || 7번째 페이지 완료] 누적 호텔 개수 : 105\n",
      "[서울 || 8번째 페이지 완료] 누적 호텔 개수 : 120\n",
      "[서울 || 9번째 페이지 완료] 누적 호텔 개수 : 135\n",
      "[서울 || 10번째 페이지 완료] 누적 호텔 개수 : 150\n",
      "[서울 || 11번째 페이지 완료] 누적 호텔 개수 : 165\n",
      "[서울 || 12번째 페이지 완료] 누적 호텔 개수 : 180\n",
      "[서울 || 13번째 페이지 완료] 누적 호텔 개수 : 195\n",
      "[서울 || 14번째 페이지 완료] 누적 호텔 개수 : 210\n",
      "[서울 || 15번째 페이지 완료] 누적 호텔 개수 : 225\n",
      "[서울 || 16번째 페이지 완료] 누적 호텔 개수 : 240\n",
      "[서울 || 17번째 페이지 완료] 누적 호텔 개수 : 255\n",
      "[서울 || 18번째 페이지 완료] 누적 호텔 개수 : 270\n",
      "[서울 || 19번째 페이지 완료] 누적 호텔 개수 : 285\n",
      "[서울 || 20번째 페이지 완료] 누적 호텔 개수 : 300\n",
      "[서울 || 21번째 페이지 완료] 누적 호텔 개수 : 315\n",
      "[서울 || 22번째 페이지 완료] 누적 호텔 개수 : 330\n",
      "[서울 || 23번째 페이지 완료] 누적 호텔 개수 : 345\n",
      "[서울 || 24번째 페이지 완료] 누적 호텔 개수 : 360\n",
      "[서울 || 25번째 페이지 완료] 누적 호텔 개수 : 375\n",
      "[서울 || 26번째 페이지 완료] 누적 호텔 개수 : 390\n",
      "[서울 || 27번째 페이지 완료] 누적 호텔 개수 : 405\n",
      "[서울 || 28번째 페이지 완료] 누적 호텔 개수 : 420\n",
      "[서울 || 29번째 페이지 완료] 누적 호텔 개수 : 435\n",
      "[서울 || 30번째 페이지 완료] 누적 호텔 개수 : 450\n",
      "[서울 || 31번째 페이지 완료] 누적 호텔 개수 : 465\n",
      "[서울 || 32번째 페이지 완료] 누적 호텔 개수 : 480\n",
      "[서울 || 33번째 페이지 완료] 누적 호텔 개수 : 495\n",
      "[서울 || 34번째 페이지 완료] 누적 호텔 개수 : 510\n",
      "[서울 || 35번째 페이지 완료] 누적 호텔 개수 : 525\n",
      "[서울 || 36번째 페이지 완료] 누적 호텔 개수 : 540\n",
      "[서울 || 37번째 페이지 완료] 누적 호텔 개수 : 555\n",
      "[서울 || 38번째 페이지 완료] 누적 호텔 개수 : 570\n",
      "[서울 || 39번째 페이지 완료] 누적 호텔 개수 : 585\n",
      "[서울 || 40번째 페이지 완료] 누적 호텔 개수 : 600\n",
      "[서울 || 41번째 페이지 완료] 누적 호텔 개수 : 615\n",
      "[서울 || 42번째 페이지 완료] 누적 호텔 개수 : 630\n",
      "[서울 || 43번째 페이지 완료] 누적 호텔 개수 : 645\n",
      "[서울 || 44번째 페이지 완료] 누적 호텔 개수 : 660\n",
      "[서울 || 45번째 페이지 완료] 누적 호텔 개수 : 675\n",
      "[서울 || 46번째 페이지 완료] 누적 호텔 개수 : 690\n",
      "[서울 || 47번째 페이지 완료] 누적 호텔 개수 : 705\n",
      "[서울 || 48번째 페이지 완료] 누적 호텔 개수 : 720\n",
      "[서울 || 49번째 페이지 완료] 누적 호텔 개수 : 735\n",
      "[서울 || 50번째 페이지 완료] 누적 호텔 개수 : 750\n",
      "[서울 || 51번째 페이지 완료] 누적 호텔 개수 : 765\n",
      "[서울 || 52번째 페이지 완료] 누적 호텔 개수 : 780\n",
      "[서울 || 53번째 페이지 완료] 누적 호텔 개수 : 795\n",
      "[서울 || 54번째 페이지 완료] 누적 호텔 개수 : 810\n",
      "[서울 || 55번째 페이지 완료] 누적 호텔 개수 : 825\n",
      "[서울 || 56번째 페이지 완료] 누적 호텔 개수 : 840\n",
      "[서울 || 57번째 페이지 완료] 누적 호텔 개수 : 855\n",
      "[서울 || 58번째 페이지 완료] 누적 호텔 개수 : 870\n",
      "[서울 || 59번째 페이지 완료] 누적 호텔 개수 : 885\n",
      "[서울 || 60번째 페이지 완료] 누적 호텔 개수 : 900\n",
      "[서울 || 61번째 페이지 완료] 누적 호텔 개수 : 915\n",
      "[서울 || 62번째 페이지 완료] 누적 호텔 개수 : 930\n",
      "[서울 || 63번째 페이지 완료] 누적 호텔 개수 : 945\n",
      "[서울 || 64번째 페이지 완료] 누적 호텔 개수 : 960\n",
      "[서울 || 65번째 페이지 완료] 누적 호텔 개수 : 975\n",
      "[서울 || 66번째 페이지 완료] 누적 호텔 개수 : 990\n",
      "[서울 || 67번째 페이지 완료] 누적 호텔 개수 : 1005\n",
      "[서울 || 68번째 페이지 완료] 누적 호텔 개수 : 1020\n",
      "[서울 || 69번째 페이지 완료] 누적 호텔 개수 : 1035\n",
      "[서울 || 70번째 페이지 완료] 누적 호텔 개수 : 1050\n",
      "[서울 || 71번째 페이지 완료] 누적 호텔 개수 : 1050\n",
      "[서귀포 || 1번째 페이지 완료] 누적 호텔 개수 : 1065\n",
      "[서귀포 || 2번째 페이지 완료] 누적 호텔 개수 : 1080\n",
      "[서귀포 || 3번째 페이지 완료] 누적 호텔 개수 : 1095\n",
      "[서귀포 || 4번째 페이지 완료] 누적 호텔 개수 : 1110\n",
      "[서귀포 || 5번째 페이지 완료] 누적 호텔 개수 : 1125\n",
      "[서귀포 || 6번째 페이지 완료] 누적 호텔 개수 : 1140\n",
      "[서귀포 || 7번째 페이지 완료] 누적 호텔 개수 : 1155\n",
      "[서귀포 || 8번째 페이지 완료] 누적 호텔 개수 : 1170\n",
      "[서귀포 || 9번째 페이지 완료] 누적 호텔 개수 : 1185\n",
      "[서귀포 || 10번째 페이지 완료] 누적 호텔 개수 : 1200\n",
      "[서귀포 || 11번째 페이지 완료] 누적 호텔 개수 : 1215\n",
      "[서귀포 || 12번째 페이지 완료] 누적 호텔 개수 : 1230\n",
      "[서귀포 || 13번째 페이지 완료] 누적 호텔 개수 : 1245\n",
      "[서귀포 || 14번째 페이지 완료] 누적 호텔 개수 : 1260\n",
      "[서귀포 || 15번째 페이지 완료] 누적 호텔 개수 : 1275\n",
      "[서귀포 || 16번째 페이지 완료] 누적 호텔 개수 : 1290\n",
      "[서귀포 || 17번째 페이지 완료] 누적 호텔 개수 : 1305\n",
      "[서귀포 || 18번째 페이지 완료] 누적 호텔 개수 : 1320\n",
      "[서귀포 || 19번째 페이지 완료] 누적 호텔 개수 : 1335\n",
      "[서귀포 || 20번째 페이지 완료] 누적 호텔 개수 : 1350\n",
      "[서귀포 || 21번째 페이지 완료] 누적 호텔 개수 : 1365\n",
      "[서귀포 || 22번째 페이지 완료] 누적 호텔 개수 : 1380\n",
      "[서귀포 || 23번째 페이지 완료] 누적 호텔 개수 : 1395\n",
      "[서귀포 || 24번째 페이지 완료] 누적 호텔 개수 : 1399\n",
      "[여수 || 1번째 페이지 완료] 누적 호텔 개수 : 1414\n",
      "[여수 || 2번째 페이지 완료] 누적 호텔 개수 : 1429\n",
      "[여수 || 3번째 페이지 완료] 누적 호텔 개수 : 1444\n",
      "[여수 || 4번째 페이지 완료] 누적 호텔 개수 : 1459\n",
      "[여수 || 5번째 페이지 완료] 누적 호텔 개수 : 1474\n",
      "[여수 || 6번째 페이지 완료] 누적 호텔 개수 : 1489\n",
      "[여수 || 7번째 페이지 완료] 누적 호텔 개수 : 1504\n",
      "[여수 || 8번째 페이지 완료] 누적 호텔 개수 : 1519\n",
      "[여수 || 9번째 페이지 완료] 누적 호텔 개수 : 1534\n",
      "[여수 || 10번째 페이지 완료] 누적 호텔 개수 : 1549\n",
      "[여수 || 11번째 페이지 완료] 누적 호텔 개수 : 1564\n",
      "[여수 || 12번째 페이지 완료] 누적 호텔 개수 : 1572\n",
      "[양양 || 1번째 페이지 완료] 누적 호텔 개수 : 1587\n",
      "[양양 || 2번째 페이지 완료] 누적 호텔 개수 : 1602\n",
      "[양양 || 3번째 페이지 완료] 누적 호텔 개수 : 1617\n",
      "[양양 || 4번째 페이지 완료] 누적 호텔 개수 : 1632\n",
      "[양양 || 5번째 페이지 완료] 누적 호텔 개수 : 1647\n",
      "[양양 || 6번째 페이지 완료] 누적 호텔 개수 : 1659\n",
      "[평창 || 1번째 페이지 완료] 누적 호텔 개수 : 1674\n",
      "[제주 || 1번째 페이지 완료] 누적 호텔 개수 : 1689\n",
      "[강릉 || 1번째 페이지 완료] 누적 호텔 개수 : 1704\n",
      "[강릉 || 2번째 페이지 완료] 누적 호텔 개수 : 1719\n",
      "[강릉 || 3번째 페이지 완료] 누적 호텔 개수 : 1734\n",
      "[강릉 || 4번째 페이지 완료] 누적 호텔 개수 : 1749\n",
      "[강릉 || 5번째 페이지 완료] 누적 호텔 개수 : 1764\n",
      "[강릉 || 6번째 페이지 완료] 누적 호텔 개수 : 1779\n",
      "[강릉 || 7번째 페이지 완료] 누적 호텔 개수 : 1794\n",
      "[강릉 || 8번째 페이지 완료] 누적 호텔 개수 : 1809\n",
      "[강릉 || 9번째 페이지 완료] 누적 호텔 개수 : 1824\n",
      "[강릉 || 10번째 페이지 완료] 누적 호텔 개수 : 1839\n",
      "[강릉 || 11번째 페이지 완료] 누적 호텔 개수 : 1854\n",
      "[강릉 || 12번째 페이지 완료] 누적 호텔 개수 : 1863\n",
      "[인천 || 1번째 페이지 완료] 누적 호텔 개수 : 1878\n",
      "[거제 || 1번째 페이지 완료] 누적 호텔 개수 : 1893\n",
      "[거제 || 2번째 페이지 완료] 누적 호텔 개수 : 1908\n",
      "[거제 || 3번째 페이지 완료] 누적 호텔 개수 : 1923\n",
      "[거제 || 4번째 페이지 완료] 누적 호텔 개수 : 1938\n",
      "[거제 || 5번째 페이지 완료] 누적 호텔 개수 : 1953\n",
      "[거제 || 6번째 페이지 완료] 누적 호텔 개수 : 1968\n",
      "[거제 || 7번째 페이지 완료] 누적 호텔 개수 : 1983\n",
      "[거제 || 8번째 페이지 완료] 누적 호텔 개수 : 1998\n",
      "[거제 || 9번째 페이지 완료] 누적 호텔 개수 : 2013\n",
      "[거제 || 10번째 페이지 완료] 누적 호텔 개수 : 2028\n",
      "[거제 || 11번째 페이지 완료] 누적 호텔 개수 : 2043\n",
      "[거제 || 12번째 페이지 완료] 누적 호텔 개수 : 2058\n",
      "[거제 || 13번째 페이지 완료] 누적 호텔 개수 : 2073\n",
      "[거제 || 14번째 페이지 완료] 누적 호텔 개수 : 2082\n",
      "[통영 || 1번째 페이지 완료] 누적 호텔 개수 : 2097\n",
      "[부산 || 1번째 페이지 완료] 누적 호텔 개수 : 2112\n",
      "[부산 || 2번째 페이지 완료] 누적 호텔 개수 : 2127\n",
      "[부산 || 3번째 페이지 완료] 누적 호텔 개수 : 2142\n",
      "[부산 || 4번째 페이지 완료] 누적 호텔 개수 : 2157\n",
      "[부산 || 5번째 페이지 완료] 누적 호텔 개수 : 2172\n",
      "[부산 || 6번째 페이지 완료] 누적 호텔 개수 : 2187\n",
      "[부산 || 7번째 페이지 완료] 누적 호텔 개수 : 2202\n",
      "[부산 || 8번째 페이지 완료] 누적 호텔 개수 : 2217\n",
      "[부산 || 9번째 페이지 완료] 누적 호텔 개수 : 2232\n",
      "[부산 || 10번째 페이지 완료] 누적 호텔 개수 : 2247\n",
      "[부산 || 11번째 페이지 완료] 누적 호텔 개수 : 2262\n",
      "[부산 || 12번째 페이지 완료] 누적 호텔 개수 : 2277\n",
      "[부산 || 13번째 페이지 완료] 누적 호텔 개수 : 2292\n",
      "[부산 || 14번째 페이지 완료] 누적 호텔 개수 : 2307\n",
      "[부산 || 15번째 페이지 완료] 누적 호텔 개수 : 2322\n",
      "[부산 || 16번째 페이지 완료] 누적 호텔 개수 : 2337\n",
      "[부산 || 17번째 페이지 완료] 누적 호텔 개수 : 2352\n",
      "[부산 || 18번째 페이지 완료] 누적 호텔 개수 : 2367\n",
      "[부산 || 19번째 페이지 완료] 누적 호텔 개수 : 2382\n",
      "[부산 || 20번째 페이지 완료] 누적 호텔 개수 : 2397\n",
      "[부산 || 21번째 페이지 완료] 누적 호텔 개수 : 2412\n",
      "[부산 || 22번째 페이지 완료] 누적 호텔 개수 : 2427\n",
      "[부산 || 23번째 페이지 완료] 누적 호텔 개수 : 2442\n",
      "[부산 || 24번째 페이지 완료] 누적 호텔 개수 : 2457\n",
      "[부산 || 25번째 페이지 완료] 누적 호텔 개수 : 2472\n",
      "[부산 || 26번째 페이지 완료] 누적 호텔 개수 : 2487\n",
      "[부산 || 27번째 페이지 완료] 누적 호텔 개수 : 2502\n",
      "[부산 || 28번째 페이지 완료] 누적 호텔 개수 : 2517\n",
      "[부산 || 29번째 페이지 완료] 누적 호텔 개수 : 2532\n",
      "[부산 || 30번째 페이지 완료] 누적 호텔 개수 : 2547\n",
      "[부산 || 31번째 페이지 완료] 누적 호텔 개수 : 2562\n",
      "[부산 || 32번째 페이지 완료] 누적 호텔 개수 : 2577\n",
      "[부산 || 33번째 페이지 완료] 누적 호텔 개수 : 2592\n",
      "[부산 || 34번째 페이지 완료] 누적 호텔 개수 : 2607\n",
      "[부산 || 35번째 페이지 완료] 누적 호텔 개수 : 2622\n",
      "[부산 || 36번째 페이지 완료] 누적 호텔 개수 : 2637\n",
      "[부산 || 37번째 페이지 완료] 누적 호텔 개수 : 2652\n",
      "[부산 || 38번째 페이지 완료] 누적 호텔 개수 : 2667\n",
      "[부산 || 39번째 페이지 완료] 누적 호텔 개수 : 2682\n",
      "[부산 || 40번째 페이지 완료] 누적 호텔 개수 : 2697\n",
      "[부산 || 41번째 페이지 완료] 누적 호텔 개수 : 2712\n",
      "[부산 || 42번째 페이지 완료] 누적 호텔 개수 : 2727\n",
      "[부산 || 43번째 페이지 완료] 누적 호텔 개수 : 2742\n",
      "[부산 || 44번째 페이지 완료] 누적 호텔 개수 : 2757\n",
      "[부산 || 45번째 페이지 완료] 누적 호텔 개수 : 2769\n",
      "[속초 || 1번째 페이지 완료] 누적 호텔 개수 : 2784\n",
      "[속초 || 2번째 페이지 완료] 누적 호텔 개수 : 2799\n",
      "[속초 || 3번째 페이지 완료] 누적 호텔 개수 : 2814\n",
      "[속초 || 4번째 페이지 완료] 누적 호텔 개수 : 2829\n",
      "[속초 || 5번째 페이지 완료] 누적 호텔 개수 : 2844\n",
      "[속초 || 6번째 페이지 완료] 누적 호텔 개수 : 2859\n",
      "[속초 || 7번째 페이지 완료] 누적 호텔 개수 : 2869\n",
      "[경주 || 1번째 페이지 완료] 누적 호텔 개수 : 2884\n",
      "[경주 || 2번째 페이지 완료] 누적 호텔 개수 : 2899\n",
      "[경주 || 3번째 페이지 완료] 누적 호텔 개수 : 2914\n",
      "[경주 || 4번째 페이지 완료] 누적 호텔 개수 : 2929\n",
      "[경주 || 5번째 페이지 완료] 누적 호텔 개수 : 2944\n",
      "[경주 || 6번째 페이지 완료] 누적 호텔 개수 : 2959\n",
      "[경주 || 7번째 페이지 완료] 누적 호텔 개수 : 2974\n",
      "[경주 || 8번째 페이지 완료] 누적 호텔 개수 : 2989\n",
      "[경주 || 9번째 페이지 완료] 누적 호텔 개수 : 3004\n",
      "[경주 || 10번째 페이지 완료] 누적 호텔 개수 : 3019\n",
      "[경주 || 11번째 페이지 완료] 누적 호텔 개수 : 3034\n",
      "[경주 || 12번째 페이지 완료] 누적 호텔 개수 : 3049\n",
      "[경주 || 13번째 페이지 완료] 누적 호텔 개수 : 3064\n",
      "[경주 || 14번째 페이지 완료] 누적 호텔 개수 : 3079\n",
      "[경주 || 15번째 페이지 완료] 누적 호텔 개수 : 3094\n",
      "[전주 || 1번째 페이지 완료] 누적 호텔 개수 : 3109\n",
      "[대구 || 1번째 페이지 완료] 누적 호텔 개수 : 3124\n",
      "[대구 || 2번째 페이지 완료] 누적 호텔 개수 : 3139\n",
      "[대구 || 3번째 페이지 완료] 누적 호텔 개수 : 3154\n",
      "[대구 || 4번째 페이지 완료] 누적 호텔 개수 : 3169\n",
      "[대구 || 5번째 페이지 완료] 누적 호텔 개수 : 3184\n",
      "[대구 || 6번째 페이지 완료] 누적 호텔 개수 : 3199\n",
      "[대구 || 7번째 페이지 완료] 누적 호텔 개수 : 3214\n",
      "[대구 || 8번째 페이지 완료] 누적 호텔 개수 : 3229\n",
      "[대구 || 9번째 페이지 완료] 누적 호텔 개수 : 3244\n",
      "[대구 || 10번째 페이지 완료] 누적 호텔 개수 : 3259\n",
      "[대구 || 11번째 페이지 완료] 누적 호텔 개수 : 3274\n",
      "[대구 || 12번째 페이지 완료] 누적 호텔 개수 : 3289\n",
      "[대구 || 13번째 페이지 완료] 누적 호텔 개수 : 3304\n",
      "[대구 || 14번째 페이지 완료] 누적 호텔 개수 : 3319\n",
      "[대구 || 15번째 페이지 완료] 누적 호텔 개수 : 3332\n",
      "****************************************************************************************************\n",
      "크롤링 완료\n"
     ]
    }
   ],
   "source": [
    "for loc,url in loc_hotel.items():\n",
    "    web.get(url)\n",
    "    time.sleep(5)\n",
    "    \n",
    "    html = web.page_source\n",
    "    soup = BeautifulSoup(html, 'html.parser')\n",
    "        \n",
    "    page_list_num = 1 # 페이지 번호\n",
    "    page_list = f\"div #list-{page_list_num}\" #페이지별 id 번호\n",
    "    \n",
    "    #페이지별 호텔 리스트 개수\n",
    "    hotel_num = len(soup.select(page_list + \">div>div>div>div>div>div>div > h3\"))\n",
    "    \n",
    "    while True:\n",
    "        for i in range(hotel_num):\n",
    "            hotel_name = soup.select(page_list + \"> div > div > div > div > div > div > div > h3\")[i].text.replace(\"\\n\",\"\")\n",
    "            row = [loc, hotel_name]\n",
    "            data = data.append(pd.Series(row,index = data.columns),ignore_index = True)\n",
    "\n",
    "        print(f\"[{loc} || {page_list_num}번째 페이지 완료] 누적 호텔 개수 : {len(data)}\")    \n",
    "\n",
    "\n",
    "        page_list_num += 1\n",
    "        page_list = f\"div #list-{page_list_num}\"\n",
    "\n",
    "        try:\n",
    "            web.find_element_by_xpath(\"/html/body/div[1]/div[1]/div[4]/div/div[1]/div[1]/div[3]/div[3]/div[1]/div[5]/div[1]/a\").click()\n",
    "            time.sleep(3)\n",
    "            html = web.page_source\n",
    "            soup = BeautifulSoup(html, 'html.parser')\n",
    "            hotel_num = len(soup.select(page_list + \">div>div>div>div>div>div>div > h3\"))\n",
    "        except:\n",
    "            break\n",
    "print(\"*\"*100)\n",
    "print(\"크롤링 완료\")"
   ]
  },
  {
   "cell_type": "code",
   "execution_count": 72,
   "id": "4706620b",
   "metadata": {},
   "outputs": [],
   "source": [
    "data.to_csv(\"hotel_list.csv\")"
   ]
  },
  {
   "cell_type": "code",
   "execution_count": 77,
   "id": "2b218928",
   "metadata": {},
   "outputs": [
    {
     "data": {
      "text/plain": [
       "(3221, 2)"
      ]
     },
     "execution_count": 77,
     "metadata": {},
     "output_type": "execute_result"
    }
   ],
   "source": [
    "data.drop_duplicates(subset = [\"호텔\"]).shape"
   ]
  },
  {
   "cell_type": "markdown",
   "id": "d69a840b",
   "metadata": {},
   "source": [
    "# 지역 크롤링"
   ]
  },
  {
   "cell_type": "code",
   "execution_count": 1,
   "id": "39880410",
   "metadata": {},
   "outputs": [],
   "source": [
    "from bs4 import BeautifulSoup\n",
    "from selenium import webdriver\n",
    "import time\n",
    "import pandas as pd"
   ]
  },
  {
   "cell_type": "code",
   "execution_count": 2,
   "id": "f34f294b",
   "metadata": {},
   "outputs": [],
   "source": [
    "web = webdriver.Chrome(\"C:/r-selenium/chromedriver.exe\")"
   ]
  },
  {
   "cell_type": "code",
   "execution_count": 65,
   "id": "49f3a5d6",
   "metadata": {},
   "outputs": [],
   "source": [
    "main_url = \"https://www.hotelscombined.co.kr/\"\n",
    "xpath_list = {\n",
    "    \"서울\": \"/html/body/div[1]/div[1]/div[4]/div[1]/div/div/div[7]/div/div/div[1]/div/div[2]/div/div[1]/div[1]/div/div/div[1]/div/h3/a\",\n",
    "    \"서귀포\" : \"/html/body/div[1]/div[1]/div[4]/div[1]/div/div/div[7]/div/div/div[1]/div/div[2]/div/div[1]/div[2]/div/div/div[1]/div/h3/a\",\n",
    "    \"여수\" : \"/html/body/div[1]/div[1]/div[4]/div[1]/div/div/div[7]/div/div/div[1]/div/div[2]/div/div[1]/div[3]/div/div/div/div/h3/a\",\n",
    "    \"양양\" : \"/html/body/div[1]/div[1]/div[4]/div[1]/div/div/div[7]/div/div/div[1]/div/div[2]/div/div[1]/div[4]/div/div/div/div/h3/a\",\n",
    "    \"평창\" : \"/html/body/div[1]/div[1]/div[4]/div[1]/div/div/div[7]/div/div/div[1]/div/div[2]/div/div[1]/div[5]/div/div/div/div/h3/a\",\n",
    "    \"제주시\" : \"/html/body/div[1]/div[1]/div[4]/div[1]/div/div/div[7]/div/div/div[1]/div/div[2]/div/div[2]/div[1]/div/div/div[1]/div/h3/a\",\n",
    "    \"강릉\" : \"/html/body/div[1]/div[1]/div[4]/div[1]/div/div/div[7]/div/div/div[1]/div/div[2]/div/div[2]/div[2]/div/div/div[1]/div/h3/a\",\n",
    "    \"인천\" : \"/html/body/div[1]/div[1]/div[4]/div[1]/div/div/div[7]/div/div/div[1]/div/div[2]/div/div[2]/div[3]/div/div/div[1]/div/h3/a\",\n",
    "    \"거제\" : \"/html/body/div[1]/div[1]/div[4]/div[1]/div/div/div[7]/div/div/div[1]/div/div[2]/div/div[2]/div[4]/div/div/div[1]/div/h3/a\",\n",
    "    \"통영\" : \"/html/body/div[1]/div[1]/div[4]/div[1]/div/div/div[7]/div/div/div[1]/div/div[2]/div/div[2]/div[5]/div/div/div[1]/div/h3/a\",\n",
    "    \"부산\" : \"/html/body/div[1]/div[1]/div[4]/div[1]/div/div/div[7]/div/div/div[1]/div/div[2]/div/div[3]/div[1]/div/div/div[1]/div/h3/a\",\n",
    "    \"속초\" : \"/html/body/div[1]/div[1]/div[4]/div[1]/div/div/div[7]/div/div/div[1]/div/div[2]/div/div[3]/div[2]/div/div/div[1]/div/h3/a\",\n",
    "    \"경주\" : \"/html/body/div[1]/div[1]/div[4]/div[1]/div/div/div[7]/div/div/div[1]/div/div[2]/div/div[3]/div[3]/div/div/div[1]/div/h3/a\",\n",
    "    \"전주\" : \"/html/body/div[1]/div[1]/div[4]/div[1]/div/div/div[7]/div/div/div[1]/div/div[2]/div/div[3]/div[4]/div/div/div[1]/div/h3/a\",\n",
    "    \"대구\" : \"/html/body/div[1]/div[1]/div[4]/div[1]/div/div/div[7]/div/div/div[1]/div/div[2]/div/div[3]/div[5]/div/div/div[1]/div/h3/a\"\n",
    "}\n"
   ]
  },
  {
   "cell_type": "code",
   "execution_count": 67,
   "id": "396ef4a0",
   "metadata": {},
   "outputs": [],
   "source": [
    "web.get(main_url)\n",
    "web.find_element_by_xpath(xpath_list['서울']).click()"
   ]
  },
  {
   "cell_type": "code",
   "execution_count": 68,
   "id": "63c9b317",
   "metadata": {},
   "outputs": [],
   "source": [
    "html = web.page_source\n",
    "soup = BeautifulSoup(html, 'html.parser')"
   ]
  },
  {
   "cell_type": "code",
   "execution_count": 71,
   "id": "7f9fd7a7",
   "metadata": {},
   "outputs": [
    {
     "data": {
      "text/plain": [
       "[<a class=\"f3Fk-link\" href=\"/Place/Incheon_International_Airport.htm\">인천 국제 공항</a>,\n",
       " <a class=\"f3Fk-link\" href=\"/Place/Gimpo_International_Airport.htm\">서울 김포 국제공항</a>,\n",
       " <a class=\"f3Fk-link\" href=\"/Place/Gangseo_gu.htm\">강서구</a>,\n",
       " <a class=\"f3Fk-link\" href=\"/Place/Seocho_gu.htm\">서초구</a>,\n",
       " <a class=\"f3Fk-link\" href=\"/Place/Gangdong_gu.htm\">강동구</a>,\n",
       " <a class=\"f3Fk-link\" href=\"/Place/Dongdaemun_gu.htm\">동대문구</a>,\n",
       " <a class=\"f3Fk-link\" href=\"/Place/Jongno_gu.htm\">종로구</a>,\n",
       " <a class=\"f3Fk-link\" href=\"/Place/Eunpyeong_gu.htm\">은평구</a>,\n",
       " <a class=\"f3Fk-link\" href=\"/Place/Seodaemun_gu.htm\">서대문구</a>,\n",
       " <a class=\"f3Fk-link\" href=\"/Place/Yeongdeungpo_gu.htm\">영등포구</a>,\n",
       " <a class=\"f3Fk-link\" href=\"/Place/Mapo_gu.htm\">마포구</a>,\n",
       " <a class=\"f3Fk-link\" href=\"/Place/Gangbuk_gu.htm\">강북구</a>,\n",
       " <a class=\"f3Fk-link\" href=\"/Place/Lotte_World.htm\">롯데월드</a>,\n",
       " <a class=\"f3Fk-link\" href=\"/Place/Gwanghwamun.htm\">광화문</a>,\n",
       " <a class=\"f3Fk-link\" href=\"/Place/Hongdae_Area.htm\">홍대거리</a>,\n",
       " <a class=\"f3Fk-link\" href=\"/Place/Gyeongbokgung_Palace.htm\">경복궁</a>,\n",
       " <a class=\"f3Fk-link\" href=\"/Place/Bukchon_Hanok_Village.htm\">북촌 한옥마을</a>,\n",
       " <a class=\"f3Fk-link\" href=\"/Place/Surrounding_Area_of_Hongik_University.htm\">홍대 앞</a>,\n",
       " <a class=\"f3Fk-link\" href=\"/Place/COEX_Mall.htm\">코엑스</a>,\n",
       " <a class=\"f3Fk-link\" href=\"/Place/Namdaemun_Gate.htm\">남대문</a>,\n",
       " <a class=\"f3Fk-link\" href=\"/Place/Hyehwa_Metro_Station.htm\">4호선 혜화역</a>,\n",
       " <a class=\"f3Fk-link\" href=\"/Place/Olympic_Park_Seoul.htm\">올림픽공원</a>,\n",
       " <a class=\"f3Fk-link\" href=\"/Place/Samseong_Station.htm\">2호선 삼성역</a>,\n",
       " <a class=\"f3Fk-link\" href=\"/Place/Dongdaemun_Market.htm\">동대문 종합시장</a>,\n",
       " <a class=\"f3Fk-link\" href=\"/Place/Korea_University.htm\">고려대학교</a>,\n",
       " <a class=\"f3Fk-link\" href=\"/Place/Jamsil_Sports_Complex.htm\">Jamsil Sports Complex</a>,\n",
       " <a class=\"f3Fk-link\" href=\"/Place/Cheonggyecheon.htm\">청계천</a>]"
      ]
     },
     "execution_count": 71,
     "metadata": {},
     "output_type": "execute_result"
    }
   ],
   "source": [
    "soup.select(\"a.f3Fk-link\")"
   ]
  },
  {
   "cell_type": "code",
   "execution_count": 115,
   "id": "054399e8",
   "metadata": {},
   "outputs": [
    {
     "name": "stdout",
     "output_type": "stream",
     "text": [
      "[1/15] 서울 지역 데이터 수집 중\n",
      "[2/15] 서귀포 지역 데이터 수집 중\n",
      "[3/15] 여수 지역 데이터 수집 중\n",
      "[4/15] 양양 지역 데이터 수집 중\n",
      "[5/15] 평창 지역 데이터 수집 중\n",
      "[6/15] 제주시 지역 데이터 수집 중\n",
      "[7/15] 강릉 지역 데이터 수집 중\n",
      "[8/15] 인천 지역 데이터 수집 중\n",
      "[9/15] 거제 지역 데이터 수집 중\n",
      "[10/15] 통영 지역 데이터 수집 중\n",
      "[11/15] 부산 지역 데이터 수집 중\n",
      "[12/15] 속초 지역 데이터 수집 중\n",
      "[13/15] 경주 지역 데이터 수집 중\n",
      "[14/15] 전주 지역 데이터 수집 중\n",
      "[15/15] 대구 지역 데이터 수집 중\n",
      "****************************************************************************************************\n",
      "데이터 수집 완료\n"
     ]
    }
   ],
   "source": [
    "#데이터를 저장할 데이터프레임 생성\n",
    "loc_data = pd.DataFrame(columns = [\"지역\"])\n",
    "cal = 1\n",
    "\n",
    "# 자동화\n",
    "for main_loc, xpath in xpath_list.items():\n",
    "    #메인 페이지로 이동\n",
    "    web.get(main_url)\n",
    "    \n",
    "    #지역 페이지로 이동\n",
    "    print(f\"[{cal}/15] {main_loc} 지역 데이터 수집 중\")\n",
    "    cal +=1\n",
    "    web.find_element_by_xpath(xpath).click()\n",
    "    time.sleep(3)\n",
    "    \n",
    "    #페이지 정보 읽기\n",
    "    html = web.page_source\n",
    "    soup = BeautifulSoup(html, 'html.parser')\n",
    "    \n",
    "    #상위 지역명을 데이터프레임에 추가\n",
    "    loc_data = loc_data.append(pd.Series(data = [main_loc], index = loc_data.columns),ignore_index = True)\n",
    "    \n",
    "    #지역명 개수 확인\n",
    "    loc_len = len(soup.select(\"a.f3Fk-link\"))\n",
    "    \n",
    "    #지역명 하나씩 가져오기\n",
    "    for i in range(loc_len):\n",
    "        loc = soup.select(\"a.f3Fk-link\")[i].text\n",
    "        temp = [loc]\n",
    "        loc_data = loc_data.append(pd.Series(data = temp, index = loc_data.columns),ignore_index = True)\n",
    "\n",
    "print(\"*\"*100)\n",
    "print(\"데이터 수집 완료\")"
   ]
  },
  {
   "cell_type": "code",
   "execution_count": 116,
   "id": "458d7933",
   "metadata": {},
   "outputs": [
    {
     "data": {
      "text/html": [
       "<div>\n",
       "<style scoped>\n",
       "    .dataframe tbody tr th:only-of-type {\n",
       "        vertical-align: middle;\n",
       "    }\n",
       "\n",
       "    .dataframe tbody tr th {\n",
       "        vertical-align: top;\n",
       "    }\n",
       "\n",
       "    .dataframe thead th {\n",
       "        text-align: right;\n",
       "    }\n",
       "</style>\n",
       "<table border=\"1\" class=\"dataframe\">\n",
       "  <thead>\n",
       "    <tr style=\"text-align: right;\">\n",
       "      <th></th>\n",
       "      <th>지역</th>\n",
       "    </tr>\n",
       "  </thead>\n",
       "  <tbody>\n",
       "    <tr>\n",
       "      <th>0</th>\n",
       "      <td>서울</td>\n",
       "    </tr>\n",
       "    <tr>\n",
       "      <th>1</th>\n",
       "      <td>인천 국제 공항</td>\n",
       "    </tr>\n",
       "    <tr>\n",
       "      <th>2</th>\n",
       "      <td>서울 김포 국제공항</td>\n",
       "    </tr>\n",
       "    <tr>\n",
       "      <th>3</th>\n",
       "      <td>강서구</td>\n",
       "    </tr>\n",
       "    <tr>\n",
       "      <th>4</th>\n",
       "      <td>서초구</td>\n",
       "    </tr>\n",
       "    <tr>\n",
       "      <th>...</th>\n",
       "      <td>...</td>\n",
       "    </tr>\n",
       "    <tr>\n",
       "      <th>127</th>\n",
       "      <td>부산 김해 국제 공항</td>\n",
       "    </tr>\n",
       "    <tr>\n",
       "      <th>128</th>\n",
       "      <td>대구</td>\n",
       "    </tr>\n",
       "    <tr>\n",
       "      <th>129</th>\n",
       "      <td>대구 동성로</td>\n",
       "    </tr>\n",
       "    <tr>\n",
       "      <th>130</th>\n",
       "      <td>동대구역</td>\n",
       "    </tr>\n",
       "    <tr>\n",
       "      <th>131</th>\n",
       "      <td>엑스코</td>\n",
       "    </tr>\n",
       "  </tbody>\n",
       "</table>\n",
       "<p>132 rows × 1 columns</p>\n",
       "</div>"
      ],
      "text/plain": [
       "              지역\n",
       "0             서울\n",
       "1       인천 국제 공항\n",
       "2     서울 김포 국제공항\n",
       "3            강서구\n",
       "4            서초구\n",
       "..           ...\n",
       "127  부산 김해 국제 공항\n",
       "128           대구\n",
       "129       대구 동성로\n",
       "130         동대구역\n",
       "131          엑스코\n",
       "\n",
       "[132 rows x 1 columns]"
      ]
     },
     "execution_count": 116,
     "metadata": {},
     "output_type": "execute_result"
    }
   ],
   "source": [
    "loc_data"
   ]
  },
  {
   "cell_type": "code",
   "execution_count": 118,
   "id": "696b5902",
   "metadata": {},
   "outputs": [],
   "source": [
    "loc_data.to_csv(\"location_list.csv\", index = False)"
   ]
  }
 ],
 "metadata": {
  "kernelspec": {
   "display_name": "Python 3",
   "language": "python",
   "name": "python3"
  },
  "language_info": {
   "codemirror_mode": {
    "name": "ipython",
    "version": 3
   },
   "file_extension": ".py",
   "mimetype": "text/x-python",
   "name": "python",
   "nbconvert_exporter": "python",
   "pygments_lexer": "ipython3",
   "version": "3.8.3"
  },
  "toc": {
   "base_numbering": 1,
   "nav_menu": {},
   "number_sections": true,
   "sideBar": true,
   "skip_h1_title": false,
   "title_cell": "Table of Contents",
   "title_sidebar": "Contents",
   "toc_cell": false,
   "toc_position": {},
   "toc_section_display": true,
   "toc_window_display": false
  }
 },
 "nbformat": 4,
 "nbformat_minor": 5
}
